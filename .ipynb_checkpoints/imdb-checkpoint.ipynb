{
 "cells": [
  {
   "cell_type": "code",
   "execution_count": 1,
   "id": "bb22f918",
   "metadata": {},
   "outputs": [],
   "source": [
    "from keras.datasets import imdb\n",
    "import numpy as np "
   ]
  },
  {
   "cell_type": "code",
   "execution_count": 2,
   "id": "bc7fe3ec",
   "metadata": {},
   "outputs": [
    {
     "name": "stderr",
     "output_type": "stream",
     "text": [
      "<__array_function__ internals>:5: VisibleDeprecationWarning: Creating an ndarray from ragged nested sequences (which is a list-or-tuple of lists-or-tuples-or ndarrays with different lengths or shapes) is deprecated. If you meant to do this, you must specify 'dtype=object' when creating the ndarray.\n",
      "/home/diop/anaconda3/envs/IA/lib/python3.9/site-packages/tensorflow/python/keras/datasets/imdb.py:159: VisibleDeprecationWarning: Creating an ndarray from ragged nested sequences (which is a list-or-tuple of lists-or-tuples-or ndarrays with different lengths or shapes) is deprecated. If you meant to do this, you must specify 'dtype=object' when creating the ndarray.\n",
      "  x_train, y_train = np.array(xs[:idx]), np.array(labels[:idx])\n",
      "/home/diop/anaconda3/envs/IA/lib/python3.9/site-packages/tensorflow/python/keras/datasets/imdb.py:160: VisibleDeprecationWarning: Creating an ndarray from ragged nested sequences (which is a list-or-tuple of lists-or-tuples-or ndarrays with different lengths or shapes) is deprecated. If you meant to do this, you must specify 'dtype=object' when creating the ndarray.\n",
      "  x_test, y_test = np.array(xs[idx:]), np.array(labels[idx:])\n"
     ]
    }
   ],
   "source": [
    "(train_data, train_labels), (test_data, test_labels) = imdb.load_data(num_words=10000)"
   ]
  },
  {
   "cell_type": "code",
   "execution_count": 3,
   "id": "22108507",
   "metadata": {},
   "outputs": [
    {
     "data": {
      "text/plain": [
       "(25000,)"
      ]
     },
     "execution_count": 3,
     "metadata": {},
     "output_type": "execute_result"
    }
   ],
   "source": [
    "train_data.shape"
   ]
  },
  {
   "cell_type": "code",
   "execution_count": 4,
   "id": "8bc13c0a",
   "metadata": {},
   "outputs": [
    {
     "data": {
      "text/plain": [
       "9999"
      ]
     },
     "execution_count": 4,
     "metadata": {},
     "output_type": "execute_result"
    }
   ],
   "source": [
    "max([max(sequence) for sequence in train_data])"
   ]
  },
  {
   "cell_type": "markdown",
   "id": "05724bc3",
   "metadata": {},
   "source": [
    "# Encodage des séquences d'entiers dans une matrice binaire"
   ]
  },
  {
   "cell_type": "code",
   "execution_count": 5,
   "id": "56bdc118",
   "metadata": {},
   "outputs": [],
   "source": [
    "def vectorize_sequences(sequences, dimension=10000):\n",
    "    results = np.zeros((len(sequences), dimension))\n",
    "    for i, sequence in enumerate(sequences):\n",
    "        results[i, sequence] = 1 \n",
    "    return results"
   ]
  },
  {
   "cell_type": "code",
   "execution_count": 6,
   "id": "7d1b7ed9",
   "metadata": {},
   "outputs": [],
   "source": [
    "x_train = vectorize_sequences(train_data)\n",
    "x_test  = vectorize_sequences(test_data)"
   ]
  },
  {
   "cell_type": "code",
   "execution_count": 7,
   "id": "7d223994",
   "metadata": {},
   "outputs": [
    {
     "data": {
      "text/plain": [
       "array([0., 1., 1., ..., 0., 0., 0.])"
      ]
     },
     "execution_count": 7,
     "metadata": {},
     "output_type": "execute_result"
    }
   ],
   "source": [
    "x_train[0]"
   ]
  },
  {
   "cell_type": "code",
   "execution_count": 8,
   "id": "3f692d6d",
   "metadata": {},
   "outputs": [],
   "source": [
    "y_train = np.asanyarray(train_labels).astype('float32')\n",
    "y_test  = np.asanyarray(test_labels).astype('float32')"
   ]
  },
  {
   "cell_type": "markdown",
   "id": "f7ee68d5",
   "metadata": {},
   "source": [
    "# Ensemble de validation"
   ]
  },
  {
   "cell_type": "code",
   "execution_count": 9,
   "id": "1e50efb3",
   "metadata": {},
   "outputs": [],
   "source": [
    "x_val = x_train[:10000]\n",
    "y_val = y_train[:10000]\n",
    "\n",
    "partial_x_train = x_train[10000:]\n",
    "partial_y_train = y_train[10000:]"
   ]
  },
  {
   "cell_type": "markdown",
   "id": "8335bd6c",
   "metadata": {},
   "source": [
    "# Architecture du réseau"
   ]
  },
  {
   "cell_type": "code",
   "execution_count": 10,
   "id": "cd44817e",
   "metadata": {},
   "outputs": [],
   "source": [
    "from keras import models\n",
    "from keras import layers"
   ]
  },
  {
   "cell_type": "code",
   "execution_count": 11,
   "id": "c07b7439",
   "metadata": {},
   "outputs": [
    {
     "name": "stderr",
     "output_type": "stream",
     "text": [
      "2023-02-19 14:02:52.462501: I tensorflow/compiler/jit/xla_cpu_device.cc:41] Not creating XLA devices, tf_xla_enable_xla_devices not set\n",
      "2023-02-19 14:02:52.463969: I tensorflow/core/platform/cpu_feature_guard.cc:142] This TensorFlow binary is optimized with oneAPI Deep Neural Network Library (oneDNN) to use the following CPU instructions in performance-critical operations:  SSE4.1 SSE4.2 AVX AVX2 FMA\n",
      "To enable them in other operations, rebuild TensorFlow with the appropriate compiler flags.\n",
      "2023-02-19 14:02:52.467306: I tensorflow/core/common_runtime/process_util.cc:146] Creating new thread pool with default inter op setting: 2. Tune using inter_op_parallelism_threads for best performance.\n"
     ]
    }
   ],
   "source": [
    "model = models.Sequential()\n",
    "model.add(layers.Dense(16, activation='relu', input_shape=(10000,)))\n",
    "model.add(layers.Dense(16, activation='relu'))\n",
    "model.add(layers.Dense(1, activation='sigmoid'))"
   ]
  },
  {
   "cell_type": "markdown",
   "id": "b3652a40",
   "metadata": {},
   "source": [
    "# Entrainement du modéle : Utilisation des fonctions de perte personnalisées et des métriques"
   ]
  },
  {
   "cell_type": "code",
   "execution_count": 12,
   "id": "1ba490d3",
   "metadata": {},
   "outputs": [],
   "source": [
    "from keras import losses\n",
    "from keras import metrics\n",
    "from keras import optimizers"
   ]
  },
  {
   "cell_type": "code",
   "execution_count": 13,
   "id": "8b7ac7c7",
   "metadata": {},
   "outputs": [],
   "source": [
    "model.compile(optimizer=optimizers.RMSprop(lr=0.001),\n",
    "             loss=losses.binary_crossentropy,\n",
    "             metrics=[metrics.binary_accuracy])"
   ]
  },
  {
   "cell_type": "code",
   "execution_count": 14,
   "id": "9077e278",
   "metadata": {},
   "outputs": [
    {
     "name": "stderr",
     "output_type": "stream",
     "text": [
      "2023-02-19 14:02:53.513159: I tensorflow/compiler/mlir/mlir_graph_optimization_pass.cc:116] None of the MLIR optimization passes are enabled (registered 2)\n",
      "2023-02-19 14:02:53.539453: I tensorflow/core/platform/profile_utils/cpu_utils.cc:112] CPU Frequency: 2499950000 Hz\n"
     ]
    },
    {
     "name": "stdout",
     "output_type": "stream",
     "text": [
      "Epoch 1/20\n",
      "30/30 [==============================] - 4s 91ms/step - loss: 0.5954 - binary_accuracy: 0.7057 - val_loss: 0.3913 - val_binary_accuracy: 0.8743\n",
      "Epoch 2/20\n",
      "30/30 [==============================] - 1s 40ms/step - loss: 0.3290 - binary_accuracy: 0.8995 - val_loss: 0.3028 - val_binary_accuracy: 0.8880\n",
      "Epoch 3/20\n",
      "30/30 [==============================] - 1s 48ms/step - loss: 0.2280 - binary_accuracy: 0.9251 - val_loss: 0.2811 - val_binary_accuracy: 0.8886\n",
      "Epoch 4/20\n",
      "30/30 [==============================] - 2s 54ms/step - loss: 0.1696 - binary_accuracy: 0.9479 - val_loss: 0.3240 - val_binary_accuracy: 0.8694\n",
      "Epoch 5/20\n",
      "30/30 [==============================] - 1s 44ms/step - loss: 0.1423 - binary_accuracy: 0.9549 - val_loss: 0.3069 - val_binary_accuracy: 0.8809\n",
      "Epoch 6/20\n",
      "30/30 [==============================] - 1s 40ms/step - loss: 0.1092 - binary_accuracy: 0.9690 - val_loss: 0.3050 - val_binary_accuracy: 0.8817\n",
      "Epoch 7/20\n",
      "30/30 [==============================] - 1s 44ms/step - loss: 0.0950 - binary_accuracy: 0.9731 - val_loss: 0.3147 - val_binary_accuracy: 0.8814\n",
      "Epoch 8/20\n",
      "30/30 [==============================] - 1s 43ms/step - loss: 0.0737 - binary_accuracy: 0.9812 - val_loss: 0.3560 - val_binary_accuracy: 0.8735\n",
      "Epoch 9/20\n",
      "30/30 [==============================] - 1s 42ms/step - loss: 0.0605 - binary_accuracy: 0.9866 - val_loss: 0.3606 - val_binary_accuracy: 0.8803\n",
      "Epoch 10/20\n",
      "30/30 [==============================] - 2s 57ms/step - loss: 0.0479 - binary_accuracy: 0.9899 - val_loss: 0.3897 - val_binary_accuracy: 0.8777\n",
      "Epoch 11/20\n",
      "30/30 [==============================] - 1s 49ms/step - loss: 0.0368 - binary_accuracy: 0.9929 - val_loss: 0.4333 - val_binary_accuracy: 0.8766\n",
      "Epoch 12/20\n",
      "30/30 [==============================] - 1s 48ms/step - loss: 0.0323 - binary_accuracy: 0.9945 - val_loss: 0.4621 - val_binary_accuracy: 0.8757\n",
      "Epoch 13/20\n",
      "30/30 [==============================] - 2s 52ms/step - loss: 0.0244 - binary_accuracy: 0.9959 - val_loss: 0.4906 - val_binary_accuracy: 0.8706\n",
      "Epoch 14/20\n",
      "30/30 [==============================] - 1s 49ms/step - loss: 0.0164 - binary_accuracy: 0.9982 - val_loss: 0.5361 - val_binary_accuracy: 0.8633\n",
      "Epoch 15/20\n",
      "30/30 [==============================] - 1s 44ms/step - loss: 0.0160 - binary_accuracy: 0.9979 - val_loss: 0.5582 - val_binary_accuracy: 0.8694\n",
      "Epoch 16/20\n",
      "30/30 [==============================] - 1s 43ms/step - loss: 0.0113 - binary_accuracy: 0.9985 - val_loss: 0.5873 - val_binary_accuracy: 0.8689\n",
      "Epoch 17/20\n",
      "30/30 [==============================] - 1s 44ms/step - loss: 0.0079 - binary_accuracy: 0.9993 - val_loss: 0.6236 - val_binary_accuracy: 0.8624\n",
      "Epoch 18/20\n",
      "30/30 [==============================] - 1s 35ms/step - loss: 0.0067 - binary_accuracy: 0.9995 - val_loss: 0.6580 - val_binary_accuracy: 0.8683\n",
      "Epoch 19/20\n",
      "30/30 [==============================] - 1s 39ms/step - loss: 0.0048 - binary_accuracy: 0.9996 - val_loss: 0.6928 - val_binary_accuracy: 0.8664\n",
      "Epoch 20/20\n",
      "30/30 [==============================] - 1s 38ms/step - loss: 0.0035 - binary_accuracy: 0.9997 - val_loss: 0.7244 - val_binary_accuracy: 0.8657\n"
     ]
    }
   ],
   "source": [
    "history = model.fit(partial_x_train, \n",
    "                   partial_y_train, \n",
    "                   epochs=20,\n",
    "                   batch_size=512,\n",
    "                   validation_data=(x_val, y_val))"
   ]
  },
  {
   "cell_type": "code",
   "execution_count": 16,
   "id": "7fbb99f7",
   "metadata": {},
   "outputs": [],
   "source": [
    "history_dict = history.history"
   ]
  },
  {
   "cell_type": "code",
   "execution_count": 17,
   "id": "4eb88bab",
   "metadata": {},
   "outputs": [
    {
     "data": {
      "text/plain": [
       "dict_keys(['loss', 'binary_accuracy', 'val_loss', 'val_binary_accuracy'])"
      ]
     },
     "execution_count": 17,
     "metadata": {},
     "output_type": "execute_result"
    }
   ],
   "source": [
    "history_dict.keys()"
   ]
  },
  {
   "cell_type": "markdown",
   "id": "47763d85",
   "metadata": {},
   "source": [
    "# Tracé de la perte pendant l'entrainement et la validation"
   ]
  },
  {
   "cell_type": "code",
   "execution_count": 19,
   "id": "3dfa085d",
   "metadata": {},
   "outputs": [],
   "source": [
    "loss_values = history_dict['loss']\n",
    "val_loss_values = history_dict['val_loss']\n",
    "\n",
    "epochs = range(1, len(loss_values)+1)"
   ]
  },
  {
   "cell_type": "code",
   "execution_count": 21,
   "id": "c87d7f5e",
   "metadata": {},
   "outputs": [],
   "source": [
    "import matplotlib.pyplot as plt "
   ]
  },
  {
   "cell_type": "code",
   "execution_count": 27,
   "id": "8308adb1",
   "metadata": {},
   "outputs": [
    {
     "data": {
      "text/plain": [
       "<matplotlib.legend.Legend at 0x7fc5a05de520>"
      ]
     },
     "execution_count": 27,
     "metadata": {},
     "output_type": "execute_result"
    },
    {
     "data": {
      "image/png": "[encoded data removed]",
      "text/plain": [
       "<Figure size 640x480 with 1 Axes>"
      ]
     },
     "metadata": {},
     "output_type": "display_data"
    }
   ],
   "source": [
    "plt.plot(epochs, loss_values, 'bo', label = \"Entrainement\")\n",
    "plt.plot(epochs, val_loss_values, label=\"Validation\")\n",
    "\n",
    "plt.title(\"Perte pendant l\\'entrainement et la validation\")\n",
    "plt.xlabel(\"Nombre d\\'époques\")\n",
    "plt.ylabel(\"Perte\")\n",
    "plt.legend()"
   ]
  },
  {
   "cell_type": "markdown",
   "id": "9c4be65b",
   "metadata": {},
   "source": [
    "# Tracé de l'exactitude pendant l'entrainement et la validation"
   ]
  },
  {
   "cell_type": "code",
   "execution_count": 29,
   "id": "772d520e",
   "metadata": {},
   "outputs": [
    {
     "data": {
      "text/plain": [
       "<matplotlib.legend.Legend at 0x7fc5a033e640>"
      ]
     },
     "execution_count": 29,
     "metadata": {},
     "output_type": "execute_result"
    },
    {
     "data": {
      "image/png": "[encoded data removed]",
      "text/plain": [
       "<Figure size 640x480 with 1 Axes>"
      ]
     },
     "metadata": {},
     "output_type": "display_data"
    }
   ],
   "source": [
    "binary_accuracy_values = history_dict['binary_accuracy']\n",
    "val_binary_accuracy_values = history_dict['val_binary_accuracy']\n",
    "\n",
    "plt.plot(epochs, binary_accuracy_values, 'bo', label= \"Entrainement\")\n",
    "plt.plot(epochs, val_binary_accuracy_values, 'b', label=\"Validation\")\n",
    "\n",
    "plt.title(\"Exactitude pendant l\\'entrainement et la validation\")\n",
    "plt.xlabel(\"Nombre d\\'époques\")\n",
    "plt.ylabel(\"Exactitude de prédiction\")\n",
    "plt.legend()\n"
   ]
  },
  {
   "cell_type": "code",
   "execution_count": null,
   "id": "d66b2d84",
   "metadata": {},
   "outputs": [],
   "source": []
  }
 ],
 "metadata": {
  "kernelspec": {
   "display_name": "Python 3 (ipykernel)",
   "language": "python",
   "name": "python3"
  },
  "language_info": {
   "codemirror_mode": {
    "name": "ipython",
    "version": 3
   },
   "file_extension": ".py",
   "mimetype": "text/x-python",
   "name": "python",
   "nbconvert_exporter": "python",
   "pygments_lexer": "ipython3",
   "version": "3.9.15"
  }
 },
 "nbformat": 4,
 "nbformat_minor": 5
}
